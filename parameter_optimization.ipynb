{
 "cells": [
  {
   "cell_type": "code",
   "execution_count": 1,
   "metadata": {},
   "outputs": [],
   "source": [
    "import pandas as pd\n",
    "import numpy as np\n",
    "import yfinance as yf\n",
    "import itertools"
   ]
  },
  {
   "cell_type": "code",
   "execution_count": 2,
   "metadata": {},
   "outputs": [],
   "source": [
    "def optimize_parameters(symbol1, symbol2, start_date, end_date):\n",
    "    data1 = yf.download(symbol1, start=start_date, end=end_date)\n",
    "    data2 = yf.download(symbol2, start=start_date, end=end_date)\n",
    "    returns1 = np.log(data1['Adj Close']).diff()\n",
    "    returns2 = np.log(data2['Adj Close']).diff()\n",
    "    spread = returns1 - returns2\n",
    "\n",
    "    window_sizes = list(range(5, 200, 5))\n",
    "    zscore_thresholds = [0.5, 1, 1.5, 2, 2.5, 3]\n",
    "\n",
    "    best_params = None\n",
    "    best_sharpe_ratio = float('-inf')\n",
    "\n",
    "    for window_size, zscore_threshold in itertools.product(window_sizes, zscore_thresholds):\n",
    "        zscore = (spread - spread.rolling(window=window_size).mean()) / spread.rolling(window=window_size).std()\n",
    "\n",
    "        signals = pd.Series(0, index=zscore.index)\n",
    "        signals[zscore > zscore_threshold] = 1\n",
    "        signals[zscore < -zscore_threshold] = -1\n",
    "        signals[(zscore > -zscore_threshold) & (zscore < zscore_threshold)] = 0\n",
    "\n",
    "        positions1, positions2 = signals.copy(), -signals.copy()\n",
    "        positions = pd.concat([positions1, positions2], axis=1)\n",
    "        positions.columns = [symbol1, symbol2]\n",
    "        portfolio_returns = (positions.shift(1) * (returns1 + returns2)).sum(axis=1)\n",
    "\n",
    "        annualized_return = ((1 + portfolio_returns.mean()) ** 252 - 1) * 100\n",
    "        volatility = np.std(portfolio_returns, ddof=1) * np.sqrt(252) * 100\n",
    "        with np.errstate(divide='ignore', invalid='ignore'):\n",
    "            sharpe_ratio = annualized_return / volatility\n",
    "\n",
    "        if not np.isnan(sharpe_ratio) and sharpe_ratio > best_sharpe_ratio:\n",
    "            best_params = (window_size, zscore_threshold)\n",
    "            best_sharpe_ratio = sharpe_ratio\n",
    "\n",
    "    return best_params"
   ]
  },
  {
   "cell_type": "code",
   "execution_count": null,
   "metadata": {},
   "outputs": [],
   "source": []
  }
 ],
 "metadata": {
  "kernelspec": {
   "display_name": "base",
   "language": "python",
   "name": "python3"
  },
  "language_info": {
   "codemirror_mode": {
    "name": "ipython",
    "version": 3
   },
   "file_extension": ".py",
   "mimetype": "text/x-python",
   "name": "python",
   "nbconvert_exporter": "python",
   "pygments_lexer": "ipython3",
   "version": "3.9.12"
  },
  "orig_nbformat": 4
 },
 "nbformat": 4,
 "nbformat_minor": 2
}
